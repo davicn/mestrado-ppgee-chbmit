{
 "cells": [
  {
   "cell_type": "markdown",
   "metadata": {},
   "source": [
    "# Classificação geral"
   ]
  },
  {
   "cell_type": "code",
   "execution_count": 1,
   "metadata": {},
   "outputs": [],
   "source": [
    "import numpy as np \n",
    "import pandas as pd \n",
    "\n",
    "\n",
    "df_energy = pd.read_csv('../data/energy/files.txt',header=None).to_numpy()\n",
    "df_var = pd.read_csv('../data/variance/files.txt',header=None).to_numpy()"
   ]
  },
  {
   "cell_type": "code",
   "execution_count": 5,
   "metadata": {},
   "outputs": [],
   "source": [
    "channels = []\n",
    "\n",
    "for i in range(len(df_energy)):\n",
    "    channels.append(pd.read_csv('../data/energy/'+df_energy[i,0]).columns.to_numpy())"
   ]
  },
  {
   "cell_type": "code",
   "execution_count": 19,
   "metadata": {
    "tags": []
   },
   "outputs": [],
   "source": [
    "labels = ['time', 'T8-P8-1', 'ECG', '--0', '--1', '--2', '--3', '--4','VNS']\n",
    "\n",
    "dfs_energy = []\n",
    "\n",
    "for ii in range(len(df_energy)):\n",
    "    d = pd.read_csv('../data/energy/'+df_energy[ii,0])\n",
    "\n",
    "    use_col = [i for i in d.columns if i not in labels]\n",
    "\n",
    "    dfs_energy.append(d.loc[:, use_col])\n"
   ]
  },
  {
   "cell_type": "code",
   "execution_count": 23,
   "metadata": {},
   "outputs": [
    {
     "output_type": "execute_result",
     "data": {
      "text/plain": "               FP1-F7         F7-T7          T7-P7          P7-O1  \\\n0       232718.598726  1.982764e+05  176391.049569  104532.236072   \n1       143844.336806  1.449096e+05  134739.244530   83019.963295   \n2       224407.045729  2.404980e+05  296804.146932  175268.980755   \n3       247700.888990  1.212885e+05  141528.753162  107048.418140   \n4       100980.697447  2.503774e+05   92649.603659  141294.569004   \n...               ...           ...            ...            ...   \n377613  230291.571514  6.443649e+05  810164.521789  261673.469984   \n377614  418770.431793  9.266841e+05  519007.663236  504797.539511   \n377615  153382.685040  7.257538e+05  308617.775929  750672.891238   \n377616  155683.613090  1.035312e+06  326644.765572  553009.859548   \n377617  792797.033817  1.185850e+06  177732.646949  758468.445244   \n\n              FP1-F3         F3-C3         C3-P3          P3-O1        FP2-F4  \\\n0       3.108512e+05  4.790525e+05  1.799176e+05  179942.588195  3.757575e+05   \n1       3.515220e+05  4.818737e+05  1.246944e+05  139326.750363  5.884740e+05   \n2       9.246427e+05  8.422789e+05  3.063086e+05  870765.092186  6.858857e+05   \n3       3.422411e+05  6.131015e+05  2.245509e+05  352272.206643  2.030685e+05   \n4       2.255893e+05  7.177296e+05  1.019009e+05  136887.204832  2.782202e+05   \n...              ...           ...           ...            ...           ...   \n377613  3.415179e+06  8.769427e+05  3.897707e+05  880506.176119  5.360812e+06   \n377614  2.155185e+06  2.248038e+06  8.229063e+05  438995.760338  2.439850e+06   \n377615  6.825357e+05  1.183056e+06  3.620838e+05  215294.930981  1.162212e+06   \n377616  1.673878e+06  1.264622e+06  5.410414e+05  321800.786867  2.641377e+06   \n377617  2.497044e+06  1.112943e+06  1.207050e+06  647855.664834  3.726349e+06   \n\n               F4-C4  ...          F8-T8        T8-P8-0          P8-O2  \\\n0       4.268469e+05  ...  346949.478577  141526.310564  503666.310951   \n1       5.424719e+05  ...  212383.658561  140837.803033  220177.380617   \n2       6.041203e+05  ...  305211.571931  204034.550607  338595.485426   \n3       2.250296e+05  ...  144450.406628  177209.625485  191274.414583   \n4       2.190388e+05  ...  280428.354064  165368.517251  159741.990963   \n...              ...  ...            ...            ...            ...   \n377613  1.189343e+06  ...  530231.709953  328194.289173  393898.364395   \n377614  1.525030e+06  ...  713832.700470  653346.626891  610639.924504   \n377615  4.941823e+05  ...  279865.945695  125198.453697  490251.253129   \n377616  1.487639e+06  ...  482668.815867  267389.151128  625081.789788   \n377617  1.016416e+06  ...  578302.053936  660173.690480  865245.124269   \n\n               FZ-CZ         CZ-PZ          P7-T7         T7-FT9  \\\n0       4.466127e+05  1.853386e+05  177219.701205  145312.338672   \n1       6.447823e+05  1.740034e+05  133973.489812   48238.883298   \n2       7.105034e+05  4.891319e+05  297832.175693  125195.705773   \n3       5.407676e+05  5.083286e+05  139919.996541   76725.386240   \n4       3.292986e+05  3.294492e+05   93165.602651   50243.951571   \n...              ...           ...            ...            ...   \n377613  4.385384e+05  3.970899e+06  808377.760782  627896.579557   \n377614  2.262295e+06  2.914998e+06  519164.905533  548687.070357   \n377615  1.152595e+06  9.650989e+05  311373.943327  179078.518876   \n377616  8.115620e+05  6.790068e+06  326350.127094  562236.776438   \n377617  1.254797e+06  3.139932e+06  175509.576734  726286.290348   \n\n             FT9-FT10       FT10-T8  seizure  \n0       137197.109552  7.536883e+04        n  \n1       188511.224713  5.354604e+04        n  \n2       329441.846500  9.941866e+04        n  \n3       174210.419509  3.868344e+04        n  \n4       303900.812361  5.290791e+04        n  \n...               ...           ...      ...  \n377613  968792.382384  1.023538e+06        n  \n377614  458898.360519  8.332132e+05        n  \n377615  294225.983920  2.003575e+05        n  \n377616  253778.380079  3.442425e+05        n  \n377617  646749.778237  6.599020e+05        n  \n\n[377618 rows x 23 columns]",
      "text/html": "<div>\n<style scoped>\n    .dataframe tbody tr th:only-of-type {\n        vertical-align: middle;\n    }\n\n    .dataframe tbody tr th {\n        vertical-align: top;\n    }\n\n    .dataframe thead th {\n        text-align: right;\n    }\n</style>\n<table border=\"1\" class=\"dataframe\">\n  <thead>\n    <tr style=\"text-align: right;\">\n      <th></th>\n      <th>FP1-F7</th>\n      <th>F7-T7</th>\n      <th>T7-P7</th>\n      <th>P7-O1</th>\n      <th>FP1-F3</th>\n      <th>F3-C3</th>\n      <th>C3-P3</th>\n      <th>P3-O1</th>\n      <th>FP2-F4</th>\n      <th>F4-C4</th>\n      <th>...</th>\n      <th>F8-T8</th>\n      <th>T8-P8-0</th>\n      <th>P8-O2</th>\n      <th>FZ-CZ</th>\n      <th>CZ-PZ</th>\n      <th>P7-T7</th>\n      <th>T7-FT9</th>\n      <th>FT9-FT10</th>\n      <th>FT10-T8</th>\n      <th>seizure</th>\n    </tr>\n  </thead>\n  <tbody>\n    <tr>\n      <th>0</th>\n      <td>232718.598726</td>\n      <td>1.982764e+05</td>\n      <td>176391.049569</td>\n      <td>104532.236072</td>\n      <td>3.108512e+05</td>\n      <td>4.790525e+05</td>\n      <td>1.799176e+05</td>\n      <td>179942.588195</td>\n      <td>3.757575e+05</td>\n      <td>4.268469e+05</td>\n      <td>...</td>\n      <td>346949.478577</td>\n      <td>141526.310564</td>\n      <td>503666.310951</td>\n      <td>4.466127e+05</td>\n      <td>1.853386e+05</td>\n      <td>177219.701205</td>\n      <td>145312.338672</td>\n      <td>137197.109552</td>\n      <td>7.536883e+04</td>\n      <td>n</td>\n    </tr>\n    <tr>\n      <th>1</th>\n      <td>143844.336806</td>\n      <td>1.449096e+05</td>\n      <td>134739.244530</td>\n      <td>83019.963295</td>\n      <td>3.515220e+05</td>\n      <td>4.818737e+05</td>\n      <td>1.246944e+05</td>\n      <td>139326.750363</td>\n      <td>5.884740e+05</td>\n      <td>5.424719e+05</td>\n      <td>...</td>\n      <td>212383.658561</td>\n      <td>140837.803033</td>\n      <td>220177.380617</td>\n      <td>6.447823e+05</td>\n      <td>1.740034e+05</td>\n      <td>133973.489812</td>\n      <td>48238.883298</td>\n      <td>188511.224713</td>\n      <td>5.354604e+04</td>\n      <td>n</td>\n    </tr>\n    <tr>\n      <th>2</th>\n      <td>224407.045729</td>\n      <td>2.404980e+05</td>\n      <td>296804.146932</td>\n      <td>175268.980755</td>\n      <td>9.246427e+05</td>\n      <td>8.422789e+05</td>\n      <td>3.063086e+05</td>\n      <td>870765.092186</td>\n      <td>6.858857e+05</td>\n      <td>6.041203e+05</td>\n      <td>...</td>\n      <td>305211.571931</td>\n      <td>204034.550607</td>\n      <td>338595.485426</td>\n      <td>7.105034e+05</td>\n      <td>4.891319e+05</td>\n      <td>297832.175693</td>\n      <td>125195.705773</td>\n      <td>329441.846500</td>\n      <td>9.941866e+04</td>\n      <td>n</td>\n    </tr>\n    <tr>\n      <th>3</th>\n      <td>247700.888990</td>\n      <td>1.212885e+05</td>\n      <td>141528.753162</td>\n      <td>107048.418140</td>\n      <td>3.422411e+05</td>\n      <td>6.131015e+05</td>\n      <td>2.245509e+05</td>\n      <td>352272.206643</td>\n      <td>2.030685e+05</td>\n      <td>2.250296e+05</td>\n      <td>...</td>\n      <td>144450.406628</td>\n      <td>177209.625485</td>\n      <td>191274.414583</td>\n      <td>5.407676e+05</td>\n      <td>5.083286e+05</td>\n      <td>139919.996541</td>\n      <td>76725.386240</td>\n      <td>174210.419509</td>\n      <td>3.868344e+04</td>\n      <td>n</td>\n    </tr>\n    <tr>\n      <th>4</th>\n      <td>100980.697447</td>\n      <td>2.503774e+05</td>\n      <td>92649.603659</td>\n      <td>141294.569004</td>\n      <td>2.255893e+05</td>\n      <td>7.177296e+05</td>\n      <td>1.019009e+05</td>\n      <td>136887.204832</td>\n      <td>2.782202e+05</td>\n      <td>2.190388e+05</td>\n      <td>...</td>\n      <td>280428.354064</td>\n      <td>165368.517251</td>\n      <td>159741.990963</td>\n      <td>3.292986e+05</td>\n      <td>3.294492e+05</td>\n      <td>93165.602651</td>\n      <td>50243.951571</td>\n      <td>303900.812361</td>\n      <td>5.290791e+04</td>\n      <td>n</td>\n    </tr>\n    <tr>\n      <th>...</th>\n      <td>...</td>\n      <td>...</td>\n      <td>...</td>\n      <td>...</td>\n      <td>...</td>\n      <td>...</td>\n      <td>...</td>\n      <td>...</td>\n      <td>...</td>\n      <td>...</td>\n      <td>...</td>\n      <td>...</td>\n      <td>...</td>\n      <td>...</td>\n      <td>...</td>\n      <td>...</td>\n      <td>...</td>\n      <td>...</td>\n      <td>...</td>\n      <td>...</td>\n      <td>...</td>\n    </tr>\n    <tr>\n      <th>377613</th>\n      <td>230291.571514</td>\n      <td>6.443649e+05</td>\n      <td>810164.521789</td>\n      <td>261673.469984</td>\n      <td>3.415179e+06</td>\n      <td>8.769427e+05</td>\n      <td>3.897707e+05</td>\n      <td>880506.176119</td>\n      <td>5.360812e+06</td>\n      <td>1.189343e+06</td>\n      <td>...</td>\n      <td>530231.709953</td>\n      <td>328194.289173</td>\n      <td>393898.364395</td>\n      <td>4.385384e+05</td>\n      <td>3.970899e+06</td>\n      <td>808377.760782</td>\n      <td>627896.579557</td>\n      <td>968792.382384</td>\n      <td>1.023538e+06</td>\n      <td>n</td>\n    </tr>\n    <tr>\n      <th>377614</th>\n      <td>418770.431793</td>\n      <td>9.266841e+05</td>\n      <td>519007.663236</td>\n      <td>504797.539511</td>\n      <td>2.155185e+06</td>\n      <td>2.248038e+06</td>\n      <td>8.229063e+05</td>\n      <td>438995.760338</td>\n      <td>2.439850e+06</td>\n      <td>1.525030e+06</td>\n      <td>...</td>\n      <td>713832.700470</td>\n      <td>653346.626891</td>\n      <td>610639.924504</td>\n      <td>2.262295e+06</td>\n      <td>2.914998e+06</td>\n      <td>519164.905533</td>\n      <td>548687.070357</td>\n      <td>458898.360519</td>\n      <td>8.332132e+05</td>\n      <td>n</td>\n    </tr>\n    <tr>\n      <th>377615</th>\n      <td>153382.685040</td>\n      <td>7.257538e+05</td>\n      <td>308617.775929</td>\n      <td>750672.891238</td>\n      <td>6.825357e+05</td>\n      <td>1.183056e+06</td>\n      <td>3.620838e+05</td>\n      <td>215294.930981</td>\n      <td>1.162212e+06</td>\n      <td>4.941823e+05</td>\n      <td>...</td>\n      <td>279865.945695</td>\n      <td>125198.453697</td>\n      <td>490251.253129</td>\n      <td>1.152595e+06</td>\n      <td>9.650989e+05</td>\n      <td>311373.943327</td>\n      <td>179078.518876</td>\n      <td>294225.983920</td>\n      <td>2.003575e+05</td>\n      <td>n</td>\n    </tr>\n    <tr>\n      <th>377616</th>\n      <td>155683.613090</td>\n      <td>1.035312e+06</td>\n      <td>326644.765572</td>\n      <td>553009.859548</td>\n      <td>1.673878e+06</td>\n      <td>1.264622e+06</td>\n      <td>5.410414e+05</td>\n      <td>321800.786867</td>\n      <td>2.641377e+06</td>\n      <td>1.487639e+06</td>\n      <td>...</td>\n      <td>482668.815867</td>\n      <td>267389.151128</td>\n      <td>625081.789788</td>\n      <td>8.115620e+05</td>\n      <td>6.790068e+06</td>\n      <td>326350.127094</td>\n      <td>562236.776438</td>\n      <td>253778.380079</td>\n      <td>3.442425e+05</td>\n      <td>n</td>\n    </tr>\n    <tr>\n      <th>377617</th>\n      <td>792797.033817</td>\n      <td>1.185850e+06</td>\n      <td>177732.646949</td>\n      <td>758468.445244</td>\n      <td>2.497044e+06</td>\n      <td>1.112943e+06</td>\n      <td>1.207050e+06</td>\n      <td>647855.664834</td>\n      <td>3.726349e+06</td>\n      <td>1.016416e+06</td>\n      <td>...</td>\n      <td>578302.053936</td>\n      <td>660173.690480</td>\n      <td>865245.124269</td>\n      <td>1.254797e+06</td>\n      <td>3.139932e+06</td>\n      <td>175509.576734</td>\n      <td>726286.290348</td>\n      <td>646749.778237</td>\n      <td>6.599020e+05</td>\n      <td>n</td>\n    </tr>\n  </tbody>\n</table>\n<p>377618 rows × 23 columns</p>\n</div>"
     },
     "metadata": {},
     "execution_count": 23
    }
   ],
   "source": [
    "D = pd.concat(dfs_energy)\n",
    "D.index = np.arange(len(D))\n",
    "D"
   ]
  },
  {
   "cell_type": "code",
   "execution_count": 24,
   "metadata": {},
   "outputs": [],
   "source": [
    "from sklearn.preprocessing import LabelEncoder\n",
    "from sklearn.model_selection import train_test_split\n",
    "\n",
    "def organize(data):\n",
    "    le = LabelEncoder().fit(data['seizure'])\n",
    "    y = le.transform(data['seizure'])\n",
    "\n",
    "    X = data.iloc[:,:-1].to_numpy()\n",
    "\n",
    "    return train_test_split(X, y, test_size=0.3, random_state=42)"
   ]
  },
  {
   "cell_type": "code",
   "execution_count": 25,
   "metadata": {},
   "outputs": [],
   "source": [
    "from sklearn.neighbors import KNeighborsClassifier\n",
    "\n",
    "knn = KNeighborsClassifier(n_neighbors=3,n_jobs=4)"
   ]
  },
  {
   "cell_type": "code",
   "execution_count": 28,
   "metadata": {
    "tags": []
   },
   "outputs": [
    {
     "output_type": "stream",
     "name": "stdout",
     "text": "99.43121693121692\n"
    }
   ],
   "source": [
    "X_train, X_test, y_train, y_test = organize(d)\n",
    "\n",
    "knn.fit(X_train, y_train)\n",
    "\n",
    "print(knn.score(X_test,y_test)*100)"
   ]
  },
  {
   "cell_type": "code",
   "execution_count": 36,
   "metadata": {},
   "outputs": [
    {
     "output_type": "execute_result",
     "data": {
      "text/plain": "['knn_all_1.joblib']"
     },
     "metadata": {},
     "execution_count": 36
    }
   ],
   "source": [
    "from joblib import dump\n",
    "\n",
    "dump(knn,'knn_all_1.joblib')\n"
   ]
  }
 ],
 "metadata": {
  "language_info": {
   "codemirror_mode": {
    "name": "ipython",
    "version": 3
   },
   "file_extension": ".py",
   "mimetype": "text/x-python",
   "name": "python",
   "nbconvert_exporter": "python",
   "pygments_lexer": "ipython3",
   "version": 3
  },
  "orig_nbformat": 2,
  "kernelspec": {
   "name": "python_defaultSpec_1594518924655",
   "display_name": "Python 3.8.2 64-bit ('mestrado-ppgee-chbmit': pipenv)"
  }
 },
 "nbformat": 4,
 "nbformat_minor": 2
}