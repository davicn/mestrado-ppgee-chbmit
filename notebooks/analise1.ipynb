{
 "cells": [
  {
   "cell_type": "code",
   "execution_count": 1,
   "metadata": {},
   "outputs": [],
   "source": [
    "import numpy as np \n",
    "import pandas as pd \n"
   ]
  },
  {
   "cell_type": "code",
   "execution_count": 5,
   "metadata": {},
   "outputs": [
    {
     "output_type": "execute_result",
     "data": {
      "text/plain": "           FP1-F7       F7-T7       T7-P7       P7-O1      FP1-F3       F3-C3  \\\n0      488.713247  707.312879   62.627374  106.787661   61.431382  115.019722   \n1      319.149348  345.230788   96.239905   94.247429   79.044620  124.667055   \n2      361.712403  335.331055  115.377904  153.774556  109.458024  142.773320   \n3      160.457143  184.822964   75.615660   81.698099  101.757919  117.769286   \n4      322.547913  148.326593   79.127567   67.990834  178.804091   94.297671   \n...           ...         ...         ...         ...         ...         ...   \n38354  101.542343  152.510206   44.192061   27.949558  182.574827  357.518550   \n38355   49.446524   34.085725   29.689336   30.479327   66.512530  133.112157   \n38356   53.574811   26.625281   65.430720   53.153468   53.678583   33.587485   \n38357   91.193137   73.596846   97.997235   55.772017  138.930474   89.616922   \n38358   49.167699   73.100814   43.444824   43.732380  106.465194  144.259878   \n\n            C3-P3       P3-O1      FP2-F4       F4-C4  ...       F8-T8  \\\n0      130.917828   97.898951   52.625004   55.469960  ...  401.710834   \n1      124.076944  117.791301   65.034693   58.746220  ...  140.900103   \n2      152.730255  180.669566  142.169004  109.777530  ...  250.830472   \n3      131.251370   91.904174   67.576892   66.454722  ...  192.159568   \n4      125.496526   99.559379  108.298177   47.284910  ...  116.531221   \n...           ...         ...         ...         ...  ...         ...   \n38354  101.409814  192.069994   61.159750  350.181154  ...  165.136015   \n38355   34.219880   66.799203   54.431326   88.043410  ...   46.760785   \n38356   65.759765   62.693714   27.968792   44.918673  ...   50.788840   \n38357  113.936773   98.224235   41.332995   96.839874  ...   95.661865   \n38358   61.861816   69.360470   69.492932   62.401453  ...   81.776035   \n\n          T8-P8-0       P8-O2       FZ-CZ       CZ-PZ       P7-T7     T7-FT9  \\\n0      210.898291  131.896362  117.940882   83.009035   62.627374  57.599128   \n1      279.492451  164.203792  100.771363   65.178357   96.239905  71.377883   \n2      423.152451  259.750937  110.385666  202.963267  115.377904  92.583757   \n3      253.563005  121.894982   77.558437   62.972055   75.615660  54.972179   \n4      141.404614  125.507260   45.482631   49.533804   79.127567  65.816504   \n...           ...         ...         ...         ...         ...        ...   \n38354   68.412219   72.246812  499.988537  341.282131   44.192061  91.881010   \n38355   23.398980   41.517915   89.274885  201.581709   29.689336  36.277301   \n38356   80.829824   40.654384  123.218402   96.046720   65.430720  27.916491   \n38357   62.697593   28.723187  111.593697  186.314162   97.997235  38.414332   \n38358   76.382161   44.468661   45.765295  154.261221   43.444824  50.388057   \n\n          FT9-FT10     FT10-T8  seizure  \n0       253.490429   59.979896        n  \n1       423.502613  118.584973        n  \n2      1091.978623  159.137373        n  \n3       408.783745   83.428663        n  \n4       190.844941   55.854057        n  \n...            ...         ...      ...  \n38354   180.774365   67.984459        n  \n38355   109.861933   41.957679        n  \n38356   310.574370   29.204532        n  \n38357   321.927312   35.948663        n  \n38358   225.981346   55.923859        n  \n\n[38359 rows x 23 columns]",
      "text/html": "<div>\n<style scoped>\n    .dataframe tbody tr th:only-of-type {\n        vertical-align: middle;\n    }\n\n    .dataframe tbody tr th {\n        vertical-align: top;\n    }\n\n    .dataframe thead th {\n        text-align: right;\n    }\n</style>\n<table border=\"1\" class=\"dataframe\">\n  <thead>\n    <tr style=\"text-align: right;\">\n      <th></th>\n      <th>FP1-F7</th>\n      <th>F7-T7</th>\n      <th>T7-P7</th>\n      <th>P7-O1</th>\n      <th>FP1-F3</th>\n      <th>F3-C3</th>\n      <th>C3-P3</th>\n      <th>P3-O1</th>\n      <th>FP2-F4</th>\n      <th>F4-C4</th>\n      <th>...</th>\n      <th>F8-T8</th>\n      <th>T8-P8-0</th>\n      <th>P8-O2</th>\n      <th>FZ-CZ</th>\n      <th>CZ-PZ</th>\n      <th>P7-T7</th>\n      <th>T7-FT9</th>\n      <th>FT9-FT10</th>\n      <th>FT10-T8</th>\n      <th>seizure</th>\n    </tr>\n  </thead>\n  <tbody>\n    <tr>\n      <th>0</th>\n      <td>488.713247</td>\n      <td>707.312879</td>\n      <td>62.627374</td>\n      <td>106.787661</td>\n      <td>61.431382</td>\n      <td>115.019722</td>\n      <td>130.917828</td>\n      <td>97.898951</td>\n      <td>52.625004</td>\n      <td>55.469960</td>\n      <td>...</td>\n      <td>401.710834</td>\n      <td>210.898291</td>\n      <td>131.896362</td>\n      <td>117.940882</td>\n      <td>83.009035</td>\n      <td>62.627374</td>\n      <td>57.599128</td>\n      <td>253.490429</td>\n      <td>59.979896</td>\n      <td>n</td>\n    </tr>\n    <tr>\n      <th>1</th>\n      <td>319.149348</td>\n      <td>345.230788</td>\n      <td>96.239905</td>\n      <td>94.247429</td>\n      <td>79.044620</td>\n      <td>124.667055</td>\n      <td>124.076944</td>\n      <td>117.791301</td>\n      <td>65.034693</td>\n      <td>58.746220</td>\n      <td>...</td>\n      <td>140.900103</td>\n      <td>279.492451</td>\n      <td>164.203792</td>\n      <td>100.771363</td>\n      <td>65.178357</td>\n      <td>96.239905</td>\n      <td>71.377883</td>\n      <td>423.502613</td>\n      <td>118.584973</td>\n      <td>n</td>\n    </tr>\n    <tr>\n      <th>2</th>\n      <td>361.712403</td>\n      <td>335.331055</td>\n      <td>115.377904</td>\n      <td>153.774556</td>\n      <td>109.458024</td>\n      <td>142.773320</td>\n      <td>152.730255</td>\n      <td>180.669566</td>\n      <td>142.169004</td>\n      <td>109.777530</td>\n      <td>...</td>\n      <td>250.830472</td>\n      <td>423.152451</td>\n      <td>259.750937</td>\n      <td>110.385666</td>\n      <td>202.963267</td>\n      <td>115.377904</td>\n      <td>92.583757</td>\n      <td>1091.978623</td>\n      <td>159.137373</td>\n      <td>n</td>\n    </tr>\n    <tr>\n      <th>3</th>\n      <td>160.457143</td>\n      <td>184.822964</td>\n      <td>75.615660</td>\n      <td>81.698099</td>\n      <td>101.757919</td>\n      <td>117.769286</td>\n      <td>131.251370</td>\n      <td>91.904174</td>\n      <td>67.576892</td>\n      <td>66.454722</td>\n      <td>...</td>\n      <td>192.159568</td>\n      <td>253.563005</td>\n      <td>121.894982</td>\n      <td>77.558437</td>\n      <td>62.972055</td>\n      <td>75.615660</td>\n      <td>54.972179</td>\n      <td>408.783745</td>\n      <td>83.428663</td>\n      <td>n</td>\n    </tr>\n    <tr>\n      <th>4</th>\n      <td>322.547913</td>\n      <td>148.326593</td>\n      <td>79.127567</td>\n      <td>67.990834</td>\n      <td>178.804091</td>\n      <td>94.297671</td>\n      <td>125.496526</td>\n      <td>99.559379</td>\n      <td>108.298177</td>\n      <td>47.284910</td>\n      <td>...</td>\n      <td>116.531221</td>\n      <td>141.404614</td>\n      <td>125.507260</td>\n      <td>45.482631</td>\n      <td>49.533804</td>\n      <td>79.127567</td>\n      <td>65.816504</td>\n      <td>190.844941</td>\n      <td>55.854057</td>\n      <td>n</td>\n    </tr>\n    <tr>\n      <th>...</th>\n      <td>...</td>\n      <td>...</td>\n      <td>...</td>\n      <td>...</td>\n      <td>...</td>\n      <td>...</td>\n      <td>...</td>\n      <td>...</td>\n      <td>...</td>\n      <td>...</td>\n      <td>...</td>\n      <td>...</td>\n      <td>...</td>\n      <td>...</td>\n      <td>...</td>\n      <td>...</td>\n      <td>...</td>\n      <td>...</td>\n      <td>...</td>\n      <td>...</td>\n      <td>...</td>\n    </tr>\n    <tr>\n      <th>38354</th>\n      <td>101.542343</td>\n      <td>152.510206</td>\n      <td>44.192061</td>\n      <td>27.949558</td>\n      <td>182.574827</td>\n      <td>357.518550</td>\n      <td>101.409814</td>\n      <td>192.069994</td>\n      <td>61.159750</td>\n      <td>350.181154</td>\n      <td>...</td>\n      <td>165.136015</td>\n      <td>68.412219</td>\n      <td>72.246812</td>\n      <td>499.988537</td>\n      <td>341.282131</td>\n      <td>44.192061</td>\n      <td>91.881010</td>\n      <td>180.774365</td>\n      <td>67.984459</td>\n      <td>n</td>\n    </tr>\n    <tr>\n      <th>38355</th>\n      <td>49.446524</td>\n      <td>34.085725</td>\n      <td>29.689336</td>\n      <td>30.479327</td>\n      <td>66.512530</td>\n      <td>133.112157</td>\n      <td>34.219880</td>\n      <td>66.799203</td>\n      <td>54.431326</td>\n      <td>88.043410</td>\n      <td>...</td>\n      <td>46.760785</td>\n      <td>23.398980</td>\n      <td>41.517915</td>\n      <td>89.274885</td>\n      <td>201.581709</td>\n      <td>29.689336</td>\n      <td>36.277301</td>\n      <td>109.861933</td>\n      <td>41.957679</td>\n      <td>n</td>\n    </tr>\n    <tr>\n      <th>38356</th>\n      <td>53.574811</td>\n      <td>26.625281</td>\n      <td>65.430720</td>\n      <td>53.153468</td>\n      <td>53.678583</td>\n      <td>33.587485</td>\n      <td>65.759765</td>\n      <td>62.693714</td>\n      <td>27.968792</td>\n      <td>44.918673</td>\n      <td>...</td>\n      <td>50.788840</td>\n      <td>80.829824</td>\n      <td>40.654384</td>\n      <td>123.218402</td>\n      <td>96.046720</td>\n      <td>65.430720</td>\n      <td>27.916491</td>\n      <td>310.574370</td>\n      <td>29.204532</td>\n      <td>n</td>\n    </tr>\n    <tr>\n      <th>38357</th>\n      <td>91.193137</td>\n      <td>73.596846</td>\n      <td>97.997235</td>\n      <td>55.772017</td>\n      <td>138.930474</td>\n      <td>89.616922</td>\n      <td>113.936773</td>\n      <td>98.224235</td>\n      <td>41.332995</td>\n      <td>96.839874</td>\n      <td>...</td>\n      <td>95.661865</td>\n      <td>62.697593</td>\n      <td>28.723187</td>\n      <td>111.593697</td>\n      <td>186.314162</td>\n      <td>97.997235</td>\n      <td>38.414332</td>\n      <td>321.927312</td>\n      <td>35.948663</td>\n      <td>n</td>\n    </tr>\n    <tr>\n      <th>38358</th>\n      <td>49.167699</td>\n      <td>73.100814</td>\n      <td>43.444824</td>\n      <td>43.732380</td>\n      <td>106.465194</td>\n      <td>144.259878</td>\n      <td>61.861816</td>\n      <td>69.360470</td>\n      <td>69.492932</td>\n      <td>62.401453</td>\n      <td>...</td>\n      <td>81.776035</td>\n      <td>76.382161</td>\n      <td>44.468661</td>\n      <td>45.765295</td>\n      <td>154.261221</td>\n      <td>43.444824</td>\n      <td>50.388057</td>\n      <td>225.981346</td>\n      <td>55.923859</td>\n      <td>n</td>\n    </tr>\n  </tbody>\n</table>\n<p>38359 rows × 23 columns</p>\n</div>"
     },
     "metadata": {},
     "execution_count": 5
    }
   ],
   "source": [
    "d = pd.read_csv('../data/chb04_var.csv')\n",
    "d"
   ]
  },
  {
   "cell_type": "code",
   "execution_count": 6,
   "metadata": {},
   "outputs": [],
   "source": [
    "from sklearn.preprocessing import LabelEncoder\n",
    "from sklearn.model_selection import train_test_split\n",
    "\n",
    "le = LabelEncoder().fit(d['seizure'])\n",
    "y = le.transform(d['seizure'])\n",
    "\n",
    "X = d.iloc[:,:-1].to_numpy()\n",
    "\n",
    "\n",
    "X_train, X_test, y_train, y_test = train_test_split(X, y, test_size=0.33, random_state=42)\n",
    "\n"
   ]
  },
  {
   "cell_type": "code",
   "execution_count": 7,
   "metadata": {},
   "outputs": [
    {
     "output_type": "execute_result",
     "data": {
      "text/plain": "0.9965242120230666"
     },
     "metadata": {},
     "execution_count": 7
    }
   ],
   "source": [
    "from sklearn.neighbors import KNeighborsClassifier\n",
    "\n",
    "knn = KNeighborsClassifier(n_neighbors=3)\n",
    "knn.fit(X_train, y_train)\n",
    "knn.score(X_test,y_test)"
   ]
  }
 ],
 "metadata": {
  "language_info": {
   "codemirror_mode": {
    "name": "ipython",
    "version": 3
   },
   "file_extension": ".py",
   "mimetype": "text/x-python",
   "name": "python",
   "nbconvert_exporter": "python",
   "pygments_lexer": "ipython3",
   "version": "3.8.2-final"
  },
  "orig_nbformat": 2,
  "kernelspec": {
   "name": "python_defaultSpec_1594475377437",
   "display_name": "Python 3.8.2 64-bit ('mestrado-ppgee-chbmit': pipenv)"
  }
 },
 "nbformat": 4,
 "nbformat_minor": 2
}