{
 "cells": [
  {
   "cell_type": "code",
   "execution_count": 1,
   "metadata": {},
   "outputs": [],
   "source": [
    "import numpy as np \n",
    "import pandas as pd \n"
   ]
  },
  {
   "cell_type": "code",
   "execution_count": 25,
   "metadata": {},
   "outputs": [
    {
     "output_type": "execute_result",
     "data": {
      "text/plain": "array([['chb01_energy.csv'],\n       ['chb02_energy.csv'],\n       ['chb03_energy.csv'],\n       ['chb04_energy.csv'],\n       ['chb05_energy.csv'],\n       ['chb06_energy.csv'],\n       ['chb07_energy.csv'],\n       ['chb08_energy.csv'],\n       ['chb09_energy.csv'],\n       ['chb10_energy.csv'],\n       ['chb11_energy.csv'],\n       ['chb14_energy.csv']], dtype=object)"
     },
     "metadata": {},
     "execution_count": 25
    }
   ],
   "source": [
    "df_energy = pd.read_csv('../data/energy/files.txt',header=None).to_numpy()\n",
    "df_var = pd.read_csv('../data/variance/files.txt',header=None).to_numpy()"
   ]
  },
  {
   "cell_type": "code",
   "execution_count": 13,
   "metadata": {},
   "outputs": [],
   "source": [
    "from sklearn.preprocessing import LabelEncoder\n",
    "from sklearn.model_selection import train_test_split\n",
    "\n",
    "def organize(data):\n",
    "    le = LabelEncoder().fit(data['seizure'])\n",
    "    y = le.transform(data['seizure'])\n",
    "\n",
    "    X = data.iloc[:,:-1].to_numpy()\n",
    "\n",
    "    return train_test_split(X, y, test_size=0.33, random_state=42)\n",
    "\n",
    "\n"
   ]
  },
  {
   "cell_type": "code",
   "execution_count": 53,
   "metadata": {},
   "outputs": [],
   "source": [
    "from sklearn.neighbors import KNeighborsClassifier\n",
    "from sklearn.svm import SVC\n",
    "\n",
    "knn = KNeighborsClassifier(n_neighbors=3,n_jobs=4)\n",
    "svm = SVC(kernel='linear')"
   ]
  },
  {
   "cell_type": "markdown",
   "metadata": {},
   "source": [
    "## kNN"
   ]
  },
  {
   "cell_type": "code",
   "execution_count": 26,
   "metadata": {
    "tags": []
   },
   "outputs": [],
   "source": [
    "scores_energy = []\n",
    "\n",
    "for i in range(len(df_energy)):\n",
    "    d = pd.read_csv('../data/energy/'+df_energy[i,0])\n",
    "    \n",
    "    X_train, X_test, y_train, y_test = organize(d)\n",
    "    \n",
    "    knn.fit(X_train, y_train)\n",
    "    scores_energy.append(knn.score(X_test,y_test)*100)\n",
    "\n",
    "scores_variance = []\n",
    "\n",
    "for i in range(len(df_var)):\n",
    "    d = pd.read_csv('../data/variance/'+df_var[i,0])\n",
    "    \n",
    "    X_train, X_test, y_train, y_test = organize(d)\n",
    "    \n",
    "    knn.fit(X_train, y_train)\n",
    "    scores_variance.append(knn.score(X_test,y_test)*100)"
   ]
  },
  {
   "cell_type": "code",
   "execution_count": 48,
   "metadata": {},
   "outputs": [
    {
     "output_type": "execute_result",
     "data": {
      "text/plain": "     Variance     Energy       Patients\n0   99.466891  99.410774  chb01_var.csv\n1   99.335260  99.219653  chb02_var.csv\n2   99.098124  99.001924  chb03_var.csv\n3   99.652421  99.612924  chb04_var.csv\n4   99.074074  99.074074  chb05_var.csv\n5   99.824459  99.824459  chb06_var.csv\n6   99.888247  99.841684  chb07_var.csv\n7   97.609428  97.558923  chb08_var.csv\n8   99.824330  99.815547  chb09_var.csv\n9   99.669749  99.651735  chb10_var.csv\n10  99.036145  98.945783  chb11_var.csv\n11  99.398749  99.458874  chb14_var.csv",
      "text/html": "<div>\n<style scoped>\n    .dataframe tbody tr th:only-of-type {\n        vertical-align: middle;\n    }\n\n    .dataframe tbody tr th {\n        vertical-align: top;\n    }\n\n    .dataframe thead th {\n        text-align: right;\n    }\n</style>\n<table border=\"1\" class=\"dataframe\">\n  <thead>\n    <tr style=\"text-align: right;\">\n      <th></th>\n      <th>Variance</th>\n      <th>Energy</th>\n      <th>Patients</th>\n    </tr>\n  </thead>\n  <tbody>\n    <tr>\n      <th>0</th>\n      <td>99.466891</td>\n      <td>99.410774</td>\n      <td>chb01_var.csv</td>\n    </tr>\n    <tr>\n      <th>1</th>\n      <td>99.335260</td>\n      <td>99.219653</td>\n      <td>chb02_var.csv</td>\n    </tr>\n    <tr>\n      <th>2</th>\n      <td>99.098124</td>\n      <td>99.001924</td>\n      <td>chb03_var.csv</td>\n    </tr>\n    <tr>\n      <th>3</th>\n      <td>99.652421</td>\n      <td>99.612924</td>\n      <td>chb04_var.csv</td>\n    </tr>\n    <tr>\n      <th>4</th>\n      <td>99.074074</td>\n      <td>99.074074</td>\n      <td>chb05_var.csv</td>\n    </tr>\n    <tr>\n      <th>5</th>\n      <td>99.824459</td>\n      <td>99.824459</td>\n      <td>chb06_var.csv</td>\n    </tr>\n    <tr>\n      <th>6</th>\n      <td>99.888247</td>\n      <td>99.841684</td>\n      <td>chb07_var.csv</td>\n    </tr>\n    <tr>\n      <th>7</th>\n      <td>97.609428</td>\n      <td>97.558923</td>\n      <td>chb08_var.csv</td>\n    </tr>\n    <tr>\n      <th>8</th>\n      <td>99.824330</td>\n      <td>99.815547</td>\n      <td>chb09_var.csv</td>\n    </tr>\n    <tr>\n      <th>9</th>\n      <td>99.669749</td>\n      <td>99.651735</td>\n      <td>chb10_var.csv</td>\n    </tr>\n    <tr>\n      <th>10</th>\n      <td>99.036145</td>\n      <td>98.945783</td>\n      <td>chb11_var.csv</td>\n    </tr>\n    <tr>\n      <th>11</th>\n      <td>99.398749</td>\n      <td>99.458874</td>\n      <td>chb14_var.csv</td>\n    </tr>\n  </tbody>\n</table>\n</div>"
     },
     "metadata": {},
     "execution_count": 48
    }
   ],
   "source": [
    "knn_scores = pd.DataFrame(data=np.array([scores_variance,scores_energy]).T,columns=['Variance','Energy'])\n",
    "knn_scores['Patients'] = df_var.reshape(1,12)[0]\n",
    "\n",
    "knn_scores"
   ]
  },
  {
   "cell_type": "code",
   "execution_count": 49,
   "metadata": {},
   "outputs": [
    {
     "output_type": "execute_result",
     "data": {
      "text/plain": "Variance    99.32\nEnergy      99.28\ndtype: float64"
     },
     "metadata": {},
     "execution_count": 49
    }
   ],
   "source": [
    "knn_scores.mean().round(2)"
   ]
  },
  {
   "cell_type": "markdown",
   "metadata": {},
   "source": [
    "## SVM"
   ]
  },
  {
   "cell_type": "code",
   "execution_count": 54,
   "metadata": {},
   "outputs": [
    {
     "output_type": "error",
     "ename": "NotFittedError",
     "evalue": "This SVC instance is not fitted yet. Call 'fit' with appropriate arguments before using this estimator.",
     "traceback": [
      "\u001b[0;31m---------------------------------------------------------------------------\u001b[0m",
      "\u001b[0;31mNotFittedError\u001b[0m                            Traceback (most recent call last)",
      "\u001b[0;32m<ipython-input-54-5c20cd712709>\u001b[0m in \u001b[0;36m<module>\u001b[0;34m\u001b[0m\n\u001b[1;32m      7\u001b[0m \u001b[0;34m\u001b[0m\u001b[0m\n\u001b[1;32m      8\u001b[0m     \u001b[0mknn\u001b[0m\u001b[0;34m.\u001b[0m\u001b[0mfit\u001b[0m\u001b[0;34m(\u001b[0m\u001b[0mX_train\u001b[0m\u001b[0;34m,\u001b[0m \u001b[0my_train\u001b[0m\u001b[0;34m)\u001b[0m\u001b[0;34m\u001b[0m\u001b[0;34m\u001b[0m\u001b[0m\n\u001b[0;32m----> 9\u001b[0;31m     \u001b[0mscores_energy\u001b[0m\u001b[0;34m.\u001b[0m\u001b[0mappend\u001b[0m\u001b[0;34m(\u001b[0m\u001b[0msvm\u001b[0m\u001b[0;34m.\u001b[0m\u001b[0mscore\u001b[0m\u001b[0;34m(\u001b[0m\u001b[0mX_test\u001b[0m\u001b[0;34m,\u001b[0m\u001b[0my_test\u001b[0m\u001b[0;34m)\u001b[0m\u001b[0;34m*\u001b[0m\u001b[0;36m100\u001b[0m\u001b[0;34m)\u001b[0m\u001b[0;34m\u001b[0m\u001b[0;34m\u001b[0m\u001b[0m\n\u001b[0m\u001b[1;32m     10\u001b[0m \u001b[0;34m\u001b[0m\u001b[0m\n\u001b[1;32m     11\u001b[0m \u001b[0mscores_variance\u001b[0m \u001b[0;34m=\u001b[0m \u001b[0;34m[\u001b[0m\u001b[0;34m]\u001b[0m\u001b[0;34m\u001b[0m\u001b[0;34m\u001b[0m\u001b[0m\n",
      "\u001b[0;32m~/.local/share/virtualenvs/mestrado-ppgee-chbmit-7pxkK-8Q/lib/python3.8/site-packages/sklearn/base.py\u001b[0m in \u001b[0;36mscore\u001b[0;34m(self, X, y, sample_weight)\u001b[0m\n\u001b[1;32m    497\u001b[0m         \"\"\"\n\u001b[1;32m    498\u001b[0m         \u001b[0;32mfrom\u001b[0m \u001b[0;34m.\u001b[0m\u001b[0mmetrics\u001b[0m \u001b[0;32mimport\u001b[0m \u001b[0maccuracy_score\u001b[0m\u001b[0;34m\u001b[0m\u001b[0;34m\u001b[0m\u001b[0m\n\u001b[0;32m--> 499\u001b[0;31m         \u001b[0;32mreturn\u001b[0m \u001b[0maccuracy_score\u001b[0m\u001b[0;34m(\u001b[0m\u001b[0my\u001b[0m\u001b[0;34m,\u001b[0m \u001b[0mself\u001b[0m\u001b[0;34m.\u001b[0m\u001b[0mpredict\u001b[0m\u001b[0;34m(\u001b[0m\u001b[0mX\u001b[0m\u001b[0;34m)\u001b[0m\u001b[0;34m,\u001b[0m \u001b[0msample_weight\u001b[0m\u001b[0;34m=\u001b[0m\u001b[0msample_weight\u001b[0m\u001b[0;34m)\u001b[0m\u001b[0;34m\u001b[0m\u001b[0;34m\u001b[0m\u001b[0m\n\u001b[0m\u001b[1;32m    500\u001b[0m \u001b[0;34m\u001b[0m\u001b[0m\n\u001b[1;32m    501\u001b[0m     \u001b[0;32mdef\u001b[0m \u001b[0m_more_tags\u001b[0m\u001b[0;34m(\u001b[0m\u001b[0mself\u001b[0m\u001b[0;34m)\u001b[0m\u001b[0;34m:\u001b[0m\u001b[0;34m\u001b[0m\u001b[0;34m\u001b[0m\u001b[0m\n",
      "\u001b[0;32m~/.local/share/virtualenvs/mestrado-ppgee-chbmit-7pxkK-8Q/lib/python3.8/site-packages/sklearn/svm/_base.py\u001b[0m in \u001b[0;36mpredict\u001b[0;34m(self, X)\u001b[0m\n\u001b[1;32m    603\u001b[0m             \u001b[0mClass\u001b[0m \u001b[0mlabels\u001b[0m \u001b[0;32mfor\u001b[0m \u001b[0msamples\u001b[0m \u001b[0;32min\u001b[0m \u001b[0mX\u001b[0m\u001b[0;34m.\u001b[0m\u001b[0;34m\u001b[0m\u001b[0;34m\u001b[0m\u001b[0m\n\u001b[1;32m    604\u001b[0m         \"\"\"\n\u001b[0;32m--> 605\u001b[0;31m         \u001b[0mcheck_is_fitted\u001b[0m\u001b[0;34m(\u001b[0m\u001b[0mself\u001b[0m\u001b[0;34m)\u001b[0m\u001b[0;34m\u001b[0m\u001b[0;34m\u001b[0m\u001b[0m\n\u001b[0m\u001b[1;32m    606\u001b[0m         \u001b[0;32mif\u001b[0m \u001b[0mself\u001b[0m\u001b[0;34m.\u001b[0m\u001b[0mbreak_ties\u001b[0m \u001b[0;32mand\u001b[0m \u001b[0mself\u001b[0m\u001b[0;34m.\u001b[0m\u001b[0mdecision_function_shape\u001b[0m \u001b[0;34m==\u001b[0m \u001b[0;34m'ovo'\u001b[0m\u001b[0;34m:\u001b[0m\u001b[0;34m\u001b[0m\u001b[0;34m\u001b[0m\u001b[0m\n\u001b[1;32m    607\u001b[0m             raise ValueError(\"break_ties must be False when \"\n",
      "\u001b[0;32m~/.local/share/virtualenvs/mestrado-ppgee-chbmit-7pxkK-8Q/lib/python3.8/site-packages/sklearn/utils/validation.py\u001b[0m in \u001b[0;36minner_f\u001b[0;34m(*args, **kwargs)\u001b[0m\n\u001b[1;32m     71\u001b[0m                           FutureWarning)\n\u001b[1;32m     72\u001b[0m         \u001b[0mkwargs\u001b[0m\u001b[0;34m.\u001b[0m\u001b[0mupdate\u001b[0m\u001b[0;34m(\u001b[0m\u001b[0;34m{\u001b[0m\u001b[0mk\u001b[0m\u001b[0;34m:\u001b[0m \u001b[0marg\u001b[0m \u001b[0;32mfor\u001b[0m \u001b[0mk\u001b[0m\u001b[0;34m,\u001b[0m \u001b[0marg\u001b[0m \u001b[0;32min\u001b[0m \u001b[0mzip\u001b[0m\u001b[0;34m(\u001b[0m\u001b[0msig\u001b[0m\u001b[0;34m.\u001b[0m\u001b[0mparameters\u001b[0m\u001b[0;34m,\u001b[0m \u001b[0margs\u001b[0m\u001b[0;34m)\u001b[0m\u001b[0;34m}\u001b[0m\u001b[0;34m)\u001b[0m\u001b[0;34m\u001b[0m\u001b[0;34m\u001b[0m\u001b[0m\n\u001b[0;32m---> 73\u001b[0;31m         \u001b[0;32mreturn\u001b[0m \u001b[0mf\u001b[0m\u001b[0;34m(\u001b[0m\u001b[0;34m**\u001b[0m\u001b[0mkwargs\u001b[0m\u001b[0;34m)\u001b[0m\u001b[0;34m\u001b[0m\u001b[0;34m\u001b[0m\u001b[0m\n\u001b[0m\u001b[1;32m     74\u001b[0m     \u001b[0;32mreturn\u001b[0m \u001b[0minner_f\u001b[0m\u001b[0;34m\u001b[0m\u001b[0;34m\u001b[0m\u001b[0m\n\u001b[1;32m     75\u001b[0m \u001b[0;34m\u001b[0m\u001b[0m\n",
      "\u001b[0;32m~/.local/share/virtualenvs/mestrado-ppgee-chbmit-7pxkK-8Q/lib/python3.8/site-packages/sklearn/utils/validation.py\u001b[0m in \u001b[0;36mcheck_is_fitted\u001b[0;34m(estimator, attributes, msg, all_or_any)\u001b[0m\n\u001b[1;32m   1018\u001b[0m \u001b[0;34m\u001b[0m\u001b[0m\n\u001b[1;32m   1019\u001b[0m     \u001b[0;32mif\u001b[0m \u001b[0;32mnot\u001b[0m \u001b[0mattrs\u001b[0m\u001b[0;34m:\u001b[0m\u001b[0;34m\u001b[0m\u001b[0;34m\u001b[0m\u001b[0m\n\u001b[0;32m-> 1020\u001b[0;31m         \u001b[0;32mraise\u001b[0m \u001b[0mNotFittedError\u001b[0m\u001b[0;34m(\u001b[0m\u001b[0mmsg\u001b[0m \u001b[0;34m%\u001b[0m \u001b[0;34m{\u001b[0m\u001b[0;34m'name'\u001b[0m\u001b[0;34m:\u001b[0m \u001b[0mtype\u001b[0m\u001b[0;34m(\u001b[0m\u001b[0mestimator\u001b[0m\u001b[0;34m)\u001b[0m\u001b[0;34m.\u001b[0m\u001b[0m__name__\u001b[0m\u001b[0;34m}\u001b[0m\u001b[0;34m)\u001b[0m\u001b[0;34m\u001b[0m\u001b[0;34m\u001b[0m\u001b[0m\n\u001b[0m\u001b[1;32m   1021\u001b[0m \u001b[0;34m\u001b[0m\u001b[0m\n\u001b[1;32m   1022\u001b[0m \u001b[0;34m\u001b[0m\u001b[0m\n",
      "\u001b[0;31mNotFittedError\u001b[0m: This SVC instance is not fitted yet. Call 'fit' with appropriate arguments before using this estimator."
     ]
    }
   ],
   "source": [
    "scores_energy = []\n",
    "\n",
    "for i in range(len(df_energy)):\n",
    "    d = pd.read_csv('../data/energy/'+df_energy[i,0])\n",
    "    \n",
    "    X_train, X_test, y_train, y_test = organize(d)\n",
    "    \n",
    "    svm.fit(X_train, y_train)\n",
    "    scores_energy.append(svm.score(X_test,y_test)*100)\n",
    "\n",
    "scores_variance = []\n",
    "\n",
    "for i in range(len(df_var)):\n",
    "    d = pd.read_csv('../data/variance/'+df_var[i,0])\n",
    "    \n",
    "    X_train, X_test, y_train, y_test = organize(d)\n",
    "    \n",
    "    svm.fit(X_train, y_train)\n",
    "    scores_variance.append(svm.score(X_test,y_test)*100)"
   ]
  }
 ],
 "metadata": {
  "language_info": {
   "codemirror_mode": {
    "name": "ipython",
    "version": 3
   },
   "file_extension": ".py",
   "mimetype": "text/x-python",
   "name": "python",
   "nbconvert_exporter": "python",
   "pygments_lexer": "ipython3",
   "version": "3.8.2-final"
  },
  "orig_nbformat": 2,
  "kernelspec": {
   "name": "python_defaultSpec_1594475377437",
   "display_name": "Python 3.8.2 64-bit ('mestrado-ppgee-chbmit': pipenv)"
  }
 },
 "nbformat": 4,
 "nbformat_minor": 2
}