{
 "cells": [
  {
   "cell_type": "code",
   "execution_count": 3,
   "metadata": {},
   "outputs": [],
   "source": [
    "import numpy as np \n",
    "import pandas as pd \n"
   ]
  },
  {
   "cell_type": "code",
   "execution_count": 5,
   "metadata": {},
   "outputs": [],
   "source": [
    "df_energy = pd.read_csv('../data/energy/files.txt',header=None).to_numpy()\n",
    "df_var = pd.read_csv('../data/variance/files.txt',header=None).to_numpy()"
   ]
  },
  {
   "cell_type": "code",
   "execution_count": 6,
   "metadata": {},
   "outputs": [],
   "source": [
    "from sklearn.preprocessing import LabelEncoder\n",
    "from sklearn.model_selection import train_test_split\n",
    "\n",
    "def organize(data):\n",
    "    le = LabelEncoder().fit(data['seizure'])\n",
    "    y = le.transform(data['seizure'])\n",
    "\n",
    "    X = data.iloc[:,:-1].to_numpy()\n",
    "\n",
    "    return train_test_split(X, y, test_size=0.3, random_state=42)"
   ]
  },
  {
   "cell_type": "code",
   "execution_count": 7,
   "metadata": {},
   "outputs": [],
   "source": [
    "from sklearn.neighbors import KNeighborsClassifier\n",
    "\n",
    "knn = KNeighborsClassifier(n_neighbors=3,n_jobs=4)"
   ]
  },
  {
   "cell_type": "code",
   "execution_count": 13,
   "metadata": {
    "tags": []
   },
   "outputs": [
    {
     "output_type": "stream",
     "name": "stdout",
     "text": "0.9945987654320988\n0.8128342245989305\n0.7676767676767676\n"
    }
   ],
   "source": [
    "from sklearn.metrics import f1_score,recall_score,accuracy_score\n",
    "\n",
    "\n",
    "d = pd.read_csv('../data/energy/'+df_energy[0,0])\n",
    "    \n",
    "X_train, X_test, y_train, y_test = organize(d)\n",
    "    \n",
    "knn.fit(X_train, y_train)\n",
    "\n",
    "y_pred = knn.predict(X_test)\n",
    "    # scores_energy.append(knn.score(X_test,y_test)*100)\n",
    "print(accuracy_score(y_test,y_pred))\n",
    "print(f1_score(y_test,y_pred))\n",
    "print(recall_score(y_test,y_pred))\n"
   ]
  },
  {
   "cell_type": "markdown",
   "metadata": {},
   "source": [
    "## kNN"
   ]
  },
  {
   "cell_type": "code",
   "execution_count": 35,
   "metadata": {
    "tags": []
   },
   "outputs": [],
   "source": [
    "from sklearn.metrics import precision_score,recall_score,accuracy_score\n",
    "\n",
    "precision_energy = []\n",
    "recall_energy = []\n",
    "accuracy_energy = []\n",
    "\n",
    "for i in range(len(df_energy)):\n",
    "    d = pd.read_csv('../data/energy/'+df_energy[i,0])\n",
    "    \n",
    "    X_train, X_test, y_train, y_test = organize(d)\n",
    "    \n",
    "    knn.fit(X_train, y_train)\n",
    "    y_pred = knn.predict(X_test)\n",
    "\n",
    "    accuracy_energy.append(accuracy_score(y_test,y_pred))\n",
    "    recall_energy.append(recall_score(y_test,y_pred))\n",
    "    precision_energy.append(precision_score(y_test,y_pred))\n",
    "\n",
    "precision_variance = []\n",
    "recall_variance = []\n",
    "accuracy_variance = []\n",
    "\n",
    "for i in range(len(df_var)):\n",
    "    d = pd.read_csv('../data/variance/'+df_var[i,0])\n",
    "    \n",
    "    X_train, X_test, y_train, y_test = organize(d)\n",
    "    \n",
    "    knn.fit(X_train, y_train)\n",
    "    y_pred = knn.predict(X_test)\n",
    "\n",
    "    accuracy_variance.append(accuracy_score(y_test,y_pred))\n",
    "    recall_variance.append(recall_score(y_test,y_pred))\n",
    "    precision_variance.append(precision_score(y_test,y_pred))"
   ]
  },
  {
   "cell_type": "code",
   "execution_count": 36,
   "metadata": {},
   "outputs": [],
   "source": [
    "var_results = pd.DataFrame(data=np.array([accuracy_variance,recall_variance,precision_variance]).T,columns=['accuracy','recall','precision'])\n",
    "\n",
    "var_results['Patients'] = df_var.reshape(1,12)[0]\n",
    "var_results.iloc[:,:-1] = var_results.iloc[:,:-1]*100\n",
    "var_results.round(2).to_csv('results_var_knn.csv',index=False)"
   ]
  },
  {
   "cell_type": "code",
   "execution_count": 37,
   "metadata": {},
   "outputs": [],
   "source": [
    "eng_results = pd.DataFrame(data=np.array([accuracy_energy,recall_energy,precision_energy]).T,columns=['accuracy','recall','precision'])\n",
    "\n",
    "eng_results['Patients'] = df_var.reshape(1,12)[0]\n",
    "\n",
    "eng_results.iloc[:,:-1] = eng_results.iloc[:,:-1]*100\n",
    "\n",
    "\n",
    "eng_results.round(2).to_csv('results_eng_knn.csv',index=False)"
   ]
  }
 ],
 "metadata": {
  "language_info": {
   "codemirror_mode": {
    "name": "ipython",
    "version": 3
   },
   "file_extension": ".py",
   "mimetype": "text/x-python",
   "name": "python",
   "nbconvert_exporter": "python",
   "pygments_lexer": "ipython3",
   "version": "3.8.2-final"
  },
  "orig_nbformat": 2,
  "kernelspec": {
   "name": "python_defaultSpec_1594689796031",
   "display_name": "Python 3.8.2 64-bit ('mestrado-ppgee-chbmit': pipenv)"
  }
 },
 "nbformat": 4,
 "nbformat_minor": 2
}