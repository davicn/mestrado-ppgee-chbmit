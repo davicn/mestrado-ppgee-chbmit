{
 "cells": [
  {
   "cell_type": "code",
   "execution_count": 1,
   "metadata": {},
   "outputs": [],
   "source": [
    "import numpy as np \n",
    "import pandas as pd \n"
   ]
  },
  {
   "cell_type": "code",
   "execution_count": 2,
   "metadata": {},
   "outputs": [],
   "source": [
    "df_energy = pd.read_csv('../data/energy/files.txt',header=None).to_numpy()\n",
    "df_var = pd.read_csv('../data/variance/files.txt',header=None).to_numpy()"
   ]
  },
  {
   "cell_type": "code",
   "execution_count": 3,
   "metadata": {},
   "outputs": [],
   "source": [
    "from sklearn.preprocessing import LabelEncoder\n",
    "from sklearn.model_selection import train_test_split\n",
    "\n",
    "def organize(data):\n",
    "    le = LabelEncoder().fit(data['seizure'])\n",
    "    y = le.transform(data['seizure'])\n",
    "\n",
    "    X = data.iloc[:,:-1].to_numpy()\n",
    "\n",
    "    return train_test_split(X, y, test_size=0.3, random_state=42)"
   ]
  },
  {
   "cell_type": "code",
   "execution_count": 4,
   "metadata": {},
   "outputs": [],
   "source": [
    "from sklearn.neighbors import KNeighborsClassifier\n",
    "\n",
    "knn = KNeighborsClassifier(n_neighbors=3,n_jobs=4)"
   ]
  },
  {
   "cell_type": "markdown",
   "metadata": {},
   "source": [
    "## kNN"
   ]
  },
  {
   "cell_type": "code",
   "execution_count": 5,
   "metadata": {
    "tags": []
   },
   "outputs": [],
   "source": [
    "scores_energy = []\n",
    "\n",
    "for i in range(len(df_energy)):\n",
    "    d = pd.read_csv('../data/energy/'+df_energy[i,0])\n",
    "    \n",
    "    X_train, X_test, y_train, y_test = organize(d)\n",
    "    \n",
    "    knn.fit(X_train, y_train)\n",
    "    scores_energy.append(knn.score(X_test,y_test)*100)\n",
    "\n",
    "scores_variance = []\n",
    "\n",
    "for i in range(len(df_var)):\n",
    "    d = pd.read_csv('../data/variance/'+df_var[i,0])\n",
    "    \n",
    "    X_train, X_test, y_train, y_test = organize(d)\n",
    "    \n",
    "    knn.fit(X_train, y_train)\n",
    "    scores_variance.append(knn.score(X_test,y_test)*100)"
   ]
  },
  {
   "cell_type": "code",
   "execution_count": 7,
   "metadata": {},
   "outputs": [
    {
     "output_type": "execute_result",
     "data": {
      "text/plain": "     Variance     Energy       Patients\n0   99.537037  99.459877  chb01_var.csv\n1   99.364272  99.173554  chb02_var.csv\n2   99.140212  99.021164  chb03_var.csv\n3   99.643726  99.626347  chb04_var.csv\n4   99.129630  99.111111  chb05_var.csv\n5   99.828357  99.828357  chb06_var.csv\n6   99.887318  99.825855  chb07_var.csv\n7   97.574074  97.555556  chb08_var.csv\n8   99.826087  99.806763  chb09_var.csv\n9   99.669749  99.643329  chb10_var.csv\n10  98.972830  99.005964  chb11_var.csv\n11  99.404762  99.431217  chb14_var.csv",
      "text/html": "<div>\n<style scoped>\n    .dataframe tbody tr th:only-of-type {\n        vertical-align: middle;\n    }\n\n    .dataframe tbody tr th {\n        vertical-align: top;\n    }\n\n    .dataframe thead th {\n        text-align: right;\n    }\n</style>\n<table border=\"1\" class=\"dataframe\">\n  <thead>\n    <tr style=\"text-align: right;\">\n      <th></th>\n      <th>Variance</th>\n      <th>Energy</th>\n      <th>Patients</th>\n    </tr>\n  </thead>\n  <tbody>\n    <tr>\n      <th>0</th>\n      <td>99.537037</td>\n      <td>99.459877</td>\n      <td>chb01_var.csv</td>\n    </tr>\n    <tr>\n      <th>1</th>\n      <td>99.364272</td>\n      <td>99.173554</td>\n      <td>chb02_var.csv</td>\n    </tr>\n    <tr>\n      <th>2</th>\n      <td>99.140212</td>\n      <td>99.021164</td>\n      <td>chb03_var.csv</td>\n    </tr>\n    <tr>\n      <th>3</th>\n      <td>99.643726</td>\n      <td>99.626347</td>\n      <td>chb04_var.csv</td>\n    </tr>\n    <tr>\n      <th>4</th>\n      <td>99.129630</td>\n      <td>99.111111</td>\n      <td>chb05_var.csv</td>\n    </tr>\n    <tr>\n      <th>5</th>\n      <td>99.828357</td>\n      <td>99.828357</td>\n      <td>chb06_var.csv</td>\n    </tr>\n    <tr>\n      <th>6</th>\n      <td>99.887318</td>\n      <td>99.825855</td>\n      <td>chb07_var.csv</td>\n    </tr>\n    <tr>\n      <th>7</th>\n      <td>97.574074</td>\n      <td>97.555556</td>\n      <td>chb08_var.csv</td>\n    </tr>\n    <tr>\n      <th>8</th>\n      <td>99.826087</td>\n      <td>99.806763</td>\n      <td>chb09_var.csv</td>\n    </tr>\n    <tr>\n      <th>9</th>\n      <td>99.669749</td>\n      <td>99.643329</td>\n      <td>chb10_var.csv</td>\n    </tr>\n    <tr>\n      <th>10</th>\n      <td>98.972830</td>\n      <td>99.005964</td>\n      <td>chb11_var.csv</td>\n    </tr>\n    <tr>\n      <th>11</th>\n      <td>99.404762</td>\n      <td>99.431217</td>\n      <td>chb14_var.csv</td>\n    </tr>\n  </tbody>\n</table>\n</div>"
     },
     "metadata": {},
     "execution_count": 7
    }
   ],
   "source": [
    "scores = pd.DataFrame(data=np.array([scores_variance,scores_energy]).T,columns=['Variance','Energy'])\n",
    "scores['Patients'] = df_var.reshape(1,12)[0]\n",
    "\n",
    "scores.to_csv('knn_results.csv',index=False)\n",
    "scores"
   ]
  }
 ],
 "metadata": {
  "language_info": {
   "codemirror_mode": {
    "name": "ipython",
    "version": 3
   },
   "file_extension": ".py",
   "mimetype": "text/x-python",
   "name": "python",
   "nbconvert_exporter": "python",
   "pygments_lexer": "ipython3",
   "version": "3.8.2-final"
  },
  "orig_nbformat": 2,
  "kernelspec": {
   "name": "python_defaultSpec_1594517676894",
   "display_name": "Python 3.8.2 64-bit ('mestrado-ppgee-chbmit': pipenv)"
  }
 },
 "nbformat": 4,
 "nbformat_minor": 2
}