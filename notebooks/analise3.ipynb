{
 "cells": [
  {
   "cell_type": "code",
   "execution_count": 1,
   "metadata": {},
   "outputs": [],
   "source": [
    "import numpy as np \n",
    "import pandas as pd \n",
    "\n",
    "\n",
    "df_energy = pd.read_csv('../data/energy/files.txt',header=None).to_numpy()\n",
    "df_var = pd.read_csv('../data/variance/files.txt',header=None).to_numpy()"
   ]
  },
  {
   "cell_type": "code",
   "execution_count": 3,
   "metadata": {},
   "outputs": [
    {
     "output_type": "execute_result",
     "data": {
      "text/plain": "             FP1-F7         F7-T7         T7-P7          P7-O1        FP1-F3  \\\n0      2.327186e+05  1.982764e+05  1.763910e+05  104532.236072  3.108512e+05   \n1      1.438443e+05  1.449096e+05  1.347392e+05   83019.963295  3.515220e+05   \n2      2.244070e+05  2.404980e+05  2.968041e+05  175268.980755  9.246427e+05   \n3      2.477009e+05  1.212885e+05  1.415288e+05  107048.418140  3.422411e+05   \n4      1.009807e+05  2.503774e+05  9.264960e+04  141294.569004  2.255893e+05   \n...             ...           ...           ...            ...           ...   \n21595  3.055315e+06  3.309905e+05  4.307859e+04  186457.609789  3.255666e+06   \n21596  1.087233e+06  2.166439e+05  5.221208e+04  108283.762473  9.711461e+05   \n21597  1.693934e+06  3.655838e+05  1.214555e+05   78973.798417  6.007031e+05   \n21598  7.357177e+06  1.920796e+06  1.364317e+06  465068.059711  6.195776e+06   \n21599  1.647911e+07  9.705065e+05  3.374893e+05  363806.463405  1.439048e+07   \n\n              F3-C3         C3-P3          P3-O1        FP2-F4         F4-C4  \\\n0      4.790525e+05  1.799176e+05  179942.588195  3.757575e+05  4.268469e+05   \n1      4.818737e+05  1.246944e+05  139326.750363  5.884740e+05  5.424719e+05   \n2      8.422789e+05  3.063086e+05  870765.092186  6.858857e+05  6.041203e+05   \n3      6.131015e+05  2.245509e+05  352272.206643  2.030685e+05  2.250296e+05   \n4      7.177296e+05  1.019009e+05  136887.204832  2.782202e+05  2.190388e+05   \n...             ...           ...            ...           ...           ...   \n21595  1.207347e+06  6.523192e+05  101960.179557  1.085356e+06  1.208680e+05   \n21596  1.950876e+05  1.052556e+05  151419.751596  8.372615e+05  5.698369e+04   \n21597  1.832144e+05  1.619538e+05  141858.503998  4.037118e+05  2.172560e+05   \n21598  1.419596e+06  1.122599e+06  901697.247157  4.237919e+06  1.762716e+06   \n21599  1.916873e+06  8.957413e+05  461150.741919  9.350745e+06  1.397471e+06   \n\n       ...         F8-T8        T8-P8-0         P8-O2         FZ-CZ  \\\n0      ...  3.469495e+05  141526.310564  5.036663e+05  4.466127e+05   \n1      ...  2.123837e+05  140837.803033  2.201774e+05  6.447823e+05   \n2      ...  3.052116e+05  204034.550607  3.385955e+05  7.105034e+05   \n3      ...  1.444504e+05  177209.625485  1.912744e+05  5.407676e+05   \n4      ...  2.804284e+05  165368.517251  1.597420e+05  3.292986e+05   \n...    ...           ...            ...           ...           ...   \n21595  ...  2.292764e+05  118673.051057  3.662454e+05  9.620236e+04   \n21596  ...  7.484062e+04   75046.710229  3.206595e+05  1.354131e+05   \n21597  ...  3.828175e+05   59941.679376  4.148382e+05  1.197386e+05   \n21598  ...  4.889408e+05  198830.593908  1.771854e+06  3.112111e+06   \n21599  ...  1.701411e+06  328507.552467  5.856369e+05  1.045371e+06   \n\n              CZ-PZ         P7-T7         T7-FT9      FT9-FT10        FT10-T8  \\\n0      1.853386e+05  1.772197e+05  145312.338672  1.371971e+05   75368.827943   \n1      1.740034e+05  1.339735e+05   48238.883298  1.885112e+05   53546.039797   \n2      4.891319e+05  2.978322e+05  125195.705773  3.294418e+05   99418.655527   \n3      5.083286e+05  1.399200e+05   76725.386240  1.742104e+05   38683.436872   \n4      3.294492e+05  9.316560e+04   50243.951571  3.039008e+05   52907.910865   \n...             ...           ...            ...           ...            ...   \n21595  2.058183e+05  4.292531e+04  149408.271501  1.120649e+05   62729.295233   \n21596  1.626917e+05  5.106558e+04   65138.918929  1.427272e+05   41386.172422   \n21597  1.715816e+05  1.214237e+05  161085.725616  8.895899e+05  157223.976946   \n21598  3.682409e+07  1.373348e+06  352500.284304  1.964925e+06  582366.538305   \n21599  1.721198e+06  3.358091e+05  269825.338086  4.328746e+05  160134.638716   \n\n       seizure  \n0            n  \n1            n  \n2            n  \n3            n  \n4            n  \n...        ...  \n21595        n  \n21596        n  \n21597        n  \n21598        n  \n21599        n  \n\n[21600 rows x 23 columns]",
      "text/html": "<div>\n<style scoped>\n    .dataframe tbody tr th:only-of-type {\n        vertical-align: middle;\n    }\n\n    .dataframe tbody tr th {\n        vertical-align: top;\n    }\n\n    .dataframe thead th {\n        text-align: right;\n    }\n</style>\n<table border=\"1\" class=\"dataframe\">\n  <thead>\n    <tr style=\"text-align: right;\">\n      <th></th>\n      <th>FP1-F7</th>\n      <th>F7-T7</th>\n      <th>T7-P7</th>\n      <th>P7-O1</th>\n      <th>FP1-F3</th>\n      <th>F3-C3</th>\n      <th>C3-P3</th>\n      <th>P3-O1</th>\n      <th>FP2-F4</th>\n      <th>F4-C4</th>\n      <th>...</th>\n      <th>F8-T8</th>\n      <th>T8-P8-0</th>\n      <th>P8-O2</th>\n      <th>FZ-CZ</th>\n      <th>CZ-PZ</th>\n      <th>P7-T7</th>\n      <th>T7-FT9</th>\n      <th>FT9-FT10</th>\n      <th>FT10-T8</th>\n      <th>seizure</th>\n    </tr>\n  </thead>\n  <tbody>\n    <tr>\n      <th>0</th>\n      <td>2.327186e+05</td>\n      <td>1.982764e+05</td>\n      <td>1.763910e+05</td>\n      <td>104532.236072</td>\n      <td>3.108512e+05</td>\n      <td>4.790525e+05</td>\n      <td>1.799176e+05</td>\n      <td>179942.588195</td>\n      <td>3.757575e+05</td>\n      <td>4.268469e+05</td>\n      <td>...</td>\n      <td>3.469495e+05</td>\n      <td>141526.310564</td>\n      <td>5.036663e+05</td>\n      <td>4.466127e+05</td>\n      <td>1.853386e+05</td>\n      <td>1.772197e+05</td>\n      <td>145312.338672</td>\n      <td>1.371971e+05</td>\n      <td>75368.827943</td>\n      <td>n</td>\n    </tr>\n    <tr>\n      <th>1</th>\n      <td>1.438443e+05</td>\n      <td>1.449096e+05</td>\n      <td>1.347392e+05</td>\n      <td>83019.963295</td>\n      <td>3.515220e+05</td>\n      <td>4.818737e+05</td>\n      <td>1.246944e+05</td>\n      <td>139326.750363</td>\n      <td>5.884740e+05</td>\n      <td>5.424719e+05</td>\n      <td>...</td>\n      <td>2.123837e+05</td>\n      <td>140837.803033</td>\n      <td>2.201774e+05</td>\n      <td>6.447823e+05</td>\n      <td>1.740034e+05</td>\n      <td>1.339735e+05</td>\n      <td>48238.883298</td>\n      <td>1.885112e+05</td>\n      <td>53546.039797</td>\n      <td>n</td>\n    </tr>\n    <tr>\n      <th>2</th>\n      <td>2.244070e+05</td>\n      <td>2.404980e+05</td>\n      <td>2.968041e+05</td>\n      <td>175268.980755</td>\n      <td>9.246427e+05</td>\n      <td>8.422789e+05</td>\n      <td>3.063086e+05</td>\n      <td>870765.092186</td>\n      <td>6.858857e+05</td>\n      <td>6.041203e+05</td>\n      <td>...</td>\n      <td>3.052116e+05</td>\n      <td>204034.550607</td>\n      <td>3.385955e+05</td>\n      <td>7.105034e+05</td>\n      <td>4.891319e+05</td>\n      <td>2.978322e+05</td>\n      <td>125195.705773</td>\n      <td>3.294418e+05</td>\n      <td>99418.655527</td>\n      <td>n</td>\n    </tr>\n    <tr>\n      <th>3</th>\n      <td>2.477009e+05</td>\n      <td>1.212885e+05</td>\n      <td>1.415288e+05</td>\n      <td>107048.418140</td>\n      <td>3.422411e+05</td>\n      <td>6.131015e+05</td>\n      <td>2.245509e+05</td>\n      <td>352272.206643</td>\n      <td>2.030685e+05</td>\n      <td>2.250296e+05</td>\n      <td>...</td>\n      <td>1.444504e+05</td>\n      <td>177209.625485</td>\n      <td>1.912744e+05</td>\n      <td>5.407676e+05</td>\n      <td>5.083286e+05</td>\n      <td>1.399200e+05</td>\n      <td>76725.386240</td>\n      <td>1.742104e+05</td>\n      <td>38683.436872</td>\n      <td>n</td>\n    </tr>\n    <tr>\n      <th>4</th>\n      <td>1.009807e+05</td>\n      <td>2.503774e+05</td>\n      <td>9.264960e+04</td>\n      <td>141294.569004</td>\n      <td>2.255893e+05</td>\n      <td>7.177296e+05</td>\n      <td>1.019009e+05</td>\n      <td>136887.204832</td>\n      <td>2.782202e+05</td>\n      <td>2.190388e+05</td>\n      <td>...</td>\n      <td>2.804284e+05</td>\n      <td>165368.517251</td>\n      <td>1.597420e+05</td>\n      <td>3.292986e+05</td>\n      <td>3.294492e+05</td>\n      <td>9.316560e+04</td>\n      <td>50243.951571</td>\n      <td>3.039008e+05</td>\n      <td>52907.910865</td>\n      <td>n</td>\n    </tr>\n    <tr>\n      <th>...</th>\n      <td>...</td>\n      <td>...</td>\n      <td>...</td>\n      <td>...</td>\n      <td>...</td>\n      <td>...</td>\n      <td>...</td>\n      <td>...</td>\n      <td>...</td>\n      <td>...</td>\n      <td>...</td>\n      <td>...</td>\n      <td>...</td>\n      <td>...</td>\n      <td>...</td>\n      <td>...</td>\n      <td>...</td>\n      <td>...</td>\n      <td>...</td>\n      <td>...</td>\n      <td>...</td>\n    </tr>\n    <tr>\n      <th>21595</th>\n      <td>3.055315e+06</td>\n      <td>3.309905e+05</td>\n      <td>4.307859e+04</td>\n      <td>186457.609789</td>\n      <td>3.255666e+06</td>\n      <td>1.207347e+06</td>\n      <td>6.523192e+05</td>\n      <td>101960.179557</td>\n      <td>1.085356e+06</td>\n      <td>1.208680e+05</td>\n      <td>...</td>\n      <td>2.292764e+05</td>\n      <td>118673.051057</td>\n      <td>3.662454e+05</td>\n      <td>9.620236e+04</td>\n      <td>2.058183e+05</td>\n      <td>4.292531e+04</td>\n      <td>149408.271501</td>\n      <td>1.120649e+05</td>\n      <td>62729.295233</td>\n      <td>n</td>\n    </tr>\n    <tr>\n      <th>21596</th>\n      <td>1.087233e+06</td>\n      <td>2.166439e+05</td>\n      <td>5.221208e+04</td>\n      <td>108283.762473</td>\n      <td>9.711461e+05</td>\n      <td>1.950876e+05</td>\n      <td>1.052556e+05</td>\n      <td>151419.751596</td>\n      <td>8.372615e+05</td>\n      <td>5.698369e+04</td>\n      <td>...</td>\n      <td>7.484062e+04</td>\n      <td>75046.710229</td>\n      <td>3.206595e+05</td>\n      <td>1.354131e+05</td>\n      <td>1.626917e+05</td>\n      <td>5.106558e+04</td>\n      <td>65138.918929</td>\n      <td>1.427272e+05</td>\n      <td>41386.172422</td>\n      <td>n</td>\n    </tr>\n    <tr>\n      <th>21597</th>\n      <td>1.693934e+06</td>\n      <td>3.655838e+05</td>\n      <td>1.214555e+05</td>\n      <td>78973.798417</td>\n      <td>6.007031e+05</td>\n      <td>1.832144e+05</td>\n      <td>1.619538e+05</td>\n      <td>141858.503998</td>\n      <td>4.037118e+05</td>\n      <td>2.172560e+05</td>\n      <td>...</td>\n      <td>3.828175e+05</td>\n      <td>59941.679376</td>\n      <td>4.148382e+05</td>\n      <td>1.197386e+05</td>\n      <td>1.715816e+05</td>\n      <td>1.214237e+05</td>\n      <td>161085.725616</td>\n      <td>8.895899e+05</td>\n      <td>157223.976946</td>\n      <td>n</td>\n    </tr>\n    <tr>\n      <th>21598</th>\n      <td>7.357177e+06</td>\n      <td>1.920796e+06</td>\n      <td>1.364317e+06</td>\n      <td>465068.059711</td>\n      <td>6.195776e+06</td>\n      <td>1.419596e+06</td>\n      <td>1.122599e+06</td>\n      <td>901697.247157</td>\n      <td>4.237919e+06</td>\n      <td>1.762716e+06</td>\n      <td>...</td>\n      <td>4.889408e+05</td>\n      <td>198830.593908</td>\n      <td>1.771854e+06</td>\n      <td>3.112111e+06</td>\n      <td>3.682409e+07</td>\n      <td>1.373348e+06</td>\n      <td>352500.284304</td>\n      <td>1.964925e+06</td>\n      <td>582366.538305</td>\n      <td>n</td>\n    </tr>\n    <tr>\n      <th>21599</th>\n      <td>1.647911e+07</td>\n      <td>9.705065e+05</td>\n      <td>3.374893e+05</td>\n      <td>363806.463405</td>\n      <td>1.439048e+07</td>\n      <td>1.916873e+06</td>\n      <td>8.957413e+05</td>\n      <td>461150.741919</td>\n      <td>9.350745e+06</td>\n      <td>1.397471e+06</td>\n      <td>...</td>\n      <td>1.701411e+06</td>\n      <td>328507.552467</td>\n      <td>5.856369e+05</td>\n      <td>1.045371e+06</td>\n      <td>1.721198e+06</td>\n      <td>3.358091e+05</td>\n      <td>269825.338086</td>\n      <td>4.328746e+05</td>\n      <td>160134.638716</td>\n      <td>n</td>\n    </tr>\n  </tbody>\n</table>\n<p>21600 rows × 23 columns</p>\n</div>"
     },
     "metadata": {},
     "execution_count": 3
    }
   ],
   "source": [
    "labels = ['time', 'T8-P8-1', 'ECG', '--0', '--1', '--2', '--3', '--4','VNS']\n",
    "\n",
    "d = pd.read_csv('../data/energy/'+df_energy[0,0])\n",
    "\n",
    "use_col = [i for i in d.columns if i not in labels]\n",
    "\n",
    "d = d.loc[:, use_col]\n",
    "d"
   ]
  },
  {
   "cell_type": "code",
   "execution_count": 5,
   "metadata": {},
   "outputs": [],
   "source": [
    "from joblib import load\n",
    "\n",
    "clf = load('../models/knn_all_1.joblib')"
   ]
  },
  {
   "cell_type": "code",
   "execution_count": 6,
   "metadata": {},
   "outputs": [],
   "source": [
    "from sklearn.preprocessing import LabelEncoder\n",
    "from sklearn.model_selection import train_test_split\n",
    "\n",
    "def organize(data):\n",
    "    le = LabelEncoder().fit(data['seizure'])\n",
    "    y = le.transform(data['seizure'])\n",
    "\n",
    "    X = data.iloc[:,:-1].to_numpy()\n",
    "\n",
    "    return train_test_split(X, y, test_size=0.3, random_state=42)"
   ]
  },
  {
   "cell_type": "code",
   "execution_count": 7,
   "metadata": {},
   "outputs": [],
   "source": [
    "X_train, X_test, y_train, y_test = organize(d)\n",
    "\n"
   ]
  },
  {
   "cell_type": "code",
   "execution_count": 13,
   "metadata": {},
   "outputs": [],
   "source": [
    "scores_test = []\n",
    "\n",
    "for i in range(len(X_test)):\n",
    "    scores_test.append(clf.predict([X_test[i]])[0])"
   ]
  },
  {
   "cell_type": "code",
   "execution_count": 16,
   "metadata": {
    "tags": []
   },
   "outputs": [
    {
     "output_type": "stream",
     "name": "stdout",
     "text": "419 1 0\n626 1 0\n1232 1 0\n2157 1 0\n2313 1 0\n2434 1 0\n3295 1 0\n3326 1 0\n4728 1 0\n4788 1 0\n4835 1 0\n4956 1 0\n5329 1 0\n5848 1 0\n5903 1 0\n"
    }
   ],
   "source": [
    "for i in range(len(scores_test)):\n",
    "    if scores_test[i]!= y_test[0]:\n",
    "        print(i,scores_test[i],y_test[0])\n"
   ]
  }
 ],
 "metadata": {
  "language_info": {
   "codemirror_mode": {
    "name": "ipython",
    "version": 3
   },
   "file_extension": ".py",
   "mimetype": "text/x-python",
   "name": "python",
   "nbconvert_exporter": "python",
   "pygments_lexer": "ipython3",
   "version": 3
  },
  "orig_nbformat": 2,
  "kernelspec": {
   "name": "python_defaultSpec_1594523078985",
   "display_name": "Python 3.8.2 64-bit ('mestrado-ppgee-chbmit': pipenv)"
  }
 },
 "nbformat": 4,
 "nbformat_minor": 2
}